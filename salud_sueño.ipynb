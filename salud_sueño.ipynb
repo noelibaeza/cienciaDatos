{
 "cells": [
  {
   "cell_type": "code",
   "execution_count": 1,
   "metadata": {},
   "outputs": [],
   "source": [
    "import pandas as pd\n",
    "import numpy as np\n",
    "import matplotlib.pyplot as plt\n",
    "import seaborn as sns"
   ]
  },
  {
   "attachments": {},
   "cell_type": "markdown",
   "metadata": {},
   "source": [
    "## **Dataset : Salud del sueño y estilo de vida** 🥱\n",
    "### Primera parte\n",
    "\n",
    "1. **Ejercicio 1:**\n",
    "Realizar un análisis exploratorio del dataset proporcionado a su grupo.\n",
    "* Identificar la cantidad de variables y observaciones presentes.\n",
    "* Realizar un resumen estadístico univariado.\n",
    "* Describir brevemente la naturaleza de los datos.\n",
    "* Determinar las columnas con valores faltantes.\n",
    "2. **Ejercicio 2:**\n",
    "* Seleccionar variables de interés y realizar gráficas que representen conjuntamente varias\n",
    "columnas en función de algún criterio seleccionado. Justificar la selección de las mismas y\n",
    "explicar brevemente el resultado obtenido.\n",
    "3. **Ejercicio 3:**\n",
    "Realizar un preprocesamiento del conjunto de datos:\n",
    "* Proponer una estrategia y llevarla adelante para el manejo de valores faltantes y\n",
    "eliminación de duplicados.\n",
    "* Considerar la normalización o estandarización de las variables numéricas y la\n",
    "codificación de las variables categóricas para su posterior análisis.\n",
    "* Realiza la “dummificación” de al menos una variable categórica y una variable\n",
    "numérica\n",
    "Documentar los pasos realizados y justificar las decisiones tomadas.\n"
   ]
  },
  {
   "attachments": {},
   "cell_type": "markdown",
   "metadata": {},
   "source": [
    "## **Características de las variables** 📑 \n",
    "Person ID: An identifier for each individual.<br>\n",
    "Gender: The gender of the person (Male/Female).<br>\n",
    "Age: The age of the person in years.<br>\n",
    "Occupation: The occupation or profession of the person.<br>\n",
    "Sleep Duration (hours): The number of hours the person sleeps per day.<br>\n",
    "Quality of Sleep (scale: 1-10): A subjective rating of the quality of sleep, ranging from 1 to 10.<br>\n",
    "Physical Activity Level (minutes/day): The number of minutes the person engages in physical activity daily.<br>\n",
    "Stress Level (scale: 1-10): A subjective rating of the stress level experienced by the person, ranging from 1 to 10.<br>\n",
    "BMI Category: The BMI category of the person (e.g., Underweight, Normal, Overweight).<br>\n",
    "Blood Pressure (systolic/diastolic): The blood pressure measurement of the person, indicated as systolic pressure over diastolic pressure.<br>\n",
    "Heart Rate (bpm): The resting heart rate of the person in beats per minute.<br>\n",
    "Daily Steps: The number of steps the person takes per day.<br>\n",
    "Sleep Disorder: The presence or absence of a sleep disorder in the person (None, Insomnia, Sleep Apnea).<br>"
   ]
  },
  {
   "cell_type": "code",
   "execution_count": 4,
   "metadata": {},
   "outputs": [
    {
     "data": {
      "text/html": [
       "<div>\n",
       "<style scoped>\n",
       "    .dataframe tbody tr th:only-of-type {\n",
       "        vertical-align: middle;\n",
       "    }\n",
       "\n",
       "    .dataframe tbody tr th {\n",
       "        vertical-align: top;\n",
       "    }\n",
       "\n",
       "    .dataframe thead th {\n",
       "        text-align: right;\n",
       "    }\n",
       "</style>\n",
       "<table border=\"1\" class=\"dataframe\">\n",
       "  <thead>\n",
       "    <tr style=\"text-align: right;\">\n",
       "      <th></th>\n",
       "      <th>Unnamed: 0</th>\n",
       "      <th>Person ID</th>\n",
       "      <th>Gender</th>\n",
       "      <th>Age</th>\n",
       "      <th>Occupation</th>\n",
       "      <th>Sleep Duration</th>\n",
       "      <th>Quality of Sleep</th>\n",
       "      <th>Physical Activity Level</th>\n",
       "      <th>Stress Level</th>\n",
       "      <th>BMI Category</th>\n",
       "      <th>Blood Pressure</th>\n",
       "      <th>Heart Rate</th>\n",
       "      <th>Daily Steps</th>\n",
       "      <th>Sleep Disorder</th>\n",
       "    </tr>\n",
       "  </thead>\n",
       "  <tbody>\n",
       "    <tr>\n",
       "      <th>0</th>\n",
       "      <td>0</td>\n",
       "      <td>1</td>\n",
       "      <td>Male</td>\n",
       "      <td>27.0</td>\n",
       "      <td>Software Engineer</td>\n",
       "      <td>6.1</td>\n",
       "      <td>6</td>\n",
       "      <td>42</td>\n",
       "      <td>6.0</td>\n",
       "      <td>Overweight</td>\n",
       "      <td>126/83</td>\n",
       "      <td>77</td>\n",
       "      <td>4200</td>\n",
       "      <td>None</td>\n",
       "    </tr>\n",
       "    <tr>\n",
       "      <th>1</th>\n",
       "      <td>1</td>\n",
       "      <td>2</td>\n",
       "      <td>Male</td>\n",
       "      <td>28.0</td>\n",
       "      <td>Doctor</td>\n",
       "      <td>6.2</td>\n",
       "      <td>6</td>\n",
       "      <td>60</td>\n",
       "      <td>8.0</td>\n",
       "      <td>Normal</td>\n",
       "      <td>125/80</td>\n",
       "      <td>75</td>\n",
       "      <td>10000</td>\n",
       "      <td>None</td>\n",
       "    </tr>\n",
       "    <tr>\n",
       "      <th>2</th>\n",
       "      <td>2</td>\n",
       "      <td>3</td>\n",
       "      <td>Male</td>\n",
       "      <td>28.0</td>\n",
       "      <td>Doctor</td>\n",
       "      <td>6.2</td>\n",
       "      <td>6</td>\n",
       "      <td>60</td>\n",
       "      <td>8.0</td>\n",
       "      <td>Normal</td>\n",
       "      <td>125/80</td>\n",
       "      <td>75</td>\n",
       "      <td>10000</td>\n",
       "      <td>None</td>\n",
       "    </tr>\n",
       "    <tr>\n",
       "      <th>3</th>\n",
       "      <td>3</td>\n",
       "      <td>4</td>\n",
       "      <td>Male</td>\n",
       "      <td>28.0</td>\n",
       "      <td>Sales Representative</td>\n",
       "      <td>5.9</td>\n",
       "      <td>4</td>\n",
       "      <td>30</td>\n",
       "      <td>8.0</td>\n",
       "      <td>Obese</td>\n",
       "      <td>140/90</td>\n",
       "      <td>85</td>\n",
       "      <td>3000</td>\n",
       "      <td>Sleep Apnea</td>\n",
       "    </tr>\n",
       "    <tr>\n",
       "      <th>4</th>\n",
       "      <td>4</td>\n",
       "      <td>5</td>\n",
       "      <td>Male</td>\n",
       "      <td>28.0</td>\n",
       "      <td>Sales Representative</td>\n",
       "      <td>5.9</td>\n",
       "      <td>4</td>\n",
       "      <td>30</td>\n",
       "      <td>8.0</td>\n",
       "      <td>Obese</td>\n",
       "      <td>140/90</td>\n",
       "      <td>85</td>\n",
       "      <td>3000</td>\n",
       "      <td>Sleep Apnea</td>\n",
       "    </tr>\n",
       "  </tbody>\n",
       "</table>\n",
       "</div>"
      ],
      "text/plain": [
       "   Unnamed: 0  Person ID Gender   Age            Occupation  Sleep Duration  \\\n",
       "0           0          1   Male  27.0     Software Engineer             6.1   \n",
       "1           1          2   Male  28.0                Doctor             6.2   \n",
       "2           2          3   Male  28.0                Doctor             6.2   \n",
       "3           3          4   Male  28.0  Sales Representative             5.9   \n",
       "4           4          5   Male  28.0  Sales Representative             5.9   \n",
       "\n",
       "   Quality of Sleep  Physical Activity Level  Stress Level BMI Category  \\\n",
       "0                 6                       42           6.0   Overweight   \n",
       "1                 6                       60           8.0       Normal   \n",
       "2                 6                       60           8.0       Normal   \n",
       "3                 4                       30           8.0        Obese   \n",
       "4                 4                       30           8.0        Obese   \n",
       "\n",
       "  Blood Pressure  Heart Rate  Daily Steps Sleep Disorder  \n",
       "0         126/83          77         4200           None  \n",
       "1         125/80          75        10000           None  \n",
       "2         125/80          75        10000           None  \n",
       "3         140/90          85         3000    Sleep Apnea  \n",
       "4         140/90          85         3000    Sleep Apnea  "
      ]
     },
     "execution_count": 4,
     "metadata": {},
     "output_type": "execute_result"
    }
   ],
   "source": [
    "# Carga del dataset\n",
    "df = pd.read_csv(\"../data/health_mod.csv\")\n",
    "df.head()"
   ]
  },
  {
   "cell_type": "code",
   "execution_count": 6,
   "metadata": {},
   "outputs": [
    {
     "name": "stdout",
     "output_type": "stream",
     "text": [
      "Cantidad de variables:  14 \n",
      "Cantidad de observaciones:  374\n"
     ]
    }
   ],
   "source": [
    "# Cantidad de variables y observaciones presentes\n",
    "print(\"Cantidad de variables: \", df.shape[1], \"\\nCantidad de observaciones: \", df.shape[0])"
   ]
  },
  {
   "cell_type": "code",
   "execution_count": 8,
   "metadata": {},
   "outputs": [
    {
     "data": {
      "text/plain": [
       "Unnamed: 0                  0\n",
       "Person ID                   0\n",
       "Gender                     37\n",
       "Age                         7\n",
       "Occupation                  0\n",
       "Sleep Duration             16\n",
       "Quality of Sleep            0\n",
       "Physical Activity Level     0\n",
       "Stress Level               11\n",
       "BMI Category                0\n",
       "Blood Pressure              0\n",
       "Heart Rate                  0\n",
       "Daily Steps                 0\n",
       "Sleep Disorder              0\n",
       "dtype: int64"
      ]
     },
     "execution_count": 8,
     "metadata": {},
     "output_type": "execute_result"
    }
   ],
   "source": [
    "# Determinar columnas con valores nulos     \n",
    "df.isnull().sum()"
   ]
  },
  {
   "cell_type": "code",
   "execution_count": 12,
   "metadata": {},
   "outputs": [
    {
     "name": "stdout",
     "output_type": "stream",
     "text": [
      "Las columnas con valores nulos son:  Index(['Gender', 'Age', 'Sleep Duration', 'Stress Level'], dtype='object')\n"
     ]
    }
   ],
   "source": [
    "print(\"Las columnas con valores nulos son: \", df.columns[df.isnull().any()])"
   ]
  },
  {
   "cell_type": "code",
   "execution_count": 13,
   "metadata": {},
   "outputs": [
    {
     "data": {
      "text/plain": [
       "Unnamed: 0                   int64\n",
       "Person ID                    int64\n",
       "Gender                      object\n",
       "Age                        float64\n",
       "Occupation                  object\n",
       "Sleep Duration             float64\n",
       "Quality of Sleep             int64\n",
       "Physical Activity Level      int64\n",
       "Stress Level               float64\n",
       "BMI Category                object\n",
       "Blood Pressure              object\n",
       "Heart Rate                   int64\n",
       "Daily Steps                  int64\n",
       "Sleep Disorder              object\n",
       "dtype: object"
      ]
     },
     "execution_count": 13,
     "metadata": {},
     "output_type": "execute_result"
    }
   ],
   "source": [
    "# Tipos de datos \n",
    "df.dtypes"
   ]
  }
 ],
 "metadata": {
  "kernelspec": {
   "display_name": "PRUEBAKAGGEL",
   "language": "python",
   "name": "python3"
  },
  "language_info": {
   "codemirror_mode": {
    "name": "ipython",
    "version": 3
   },
   "file_extension": ".py",
   "mimetype": "text/x-python",
   "name": "python",
   "nbconvert_exporter": "python",
   "pygments_lexer": "ipython3",
   "version": "3.10.11"
  },
  "orig_nbformat": 4
 },
 "nbformat": 4,
 "nbformat_minor": 2
}
