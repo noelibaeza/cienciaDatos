{
  "nbformat": 4,
  "nbformat_minor": 0,
  "metadata": {
    "colab": {
      "provenance": []
    },
    "kernelspec": {
      "name": "python3",
      "display_name": "Python 3"
    },
    "language_info": {
      "name": "python"
    }
  },
  "cells": [
    {
      "cell_type": "code",
      "execution_count": null,
      "metadata": {
        "id": "vCAUj-Rechom"
      },
      "outputs": [],
      "source": [
        "import numpy as np\n",
        "import pandas as pd\n",
        "from sklearn.datasets import load_iris\n",
        "\n",
        "import matplotlib.pyplot as plt\n",
        "\n",
        "from sklearn.decomposition import PCA"
      ]
    },
    {
      "cell_type": "code",
      "source": [
        "iris = load_iris()\n",
        "\n",
        "data = pd.DataFrame(data=iris.data, columns=iris.feature_names)\n",
        "\n",
        "data.head()"
      ],
      "metadata": {
        "colab": {
          "base_uri": "https://localhost:8080/",
          "height": 206
        },
        "id": "0JshcwN8eRwb",
        "outputId": "a378a145-752f-452a-fd11-512abe5a4d63"
      },
      "execution_count": null,
      "outputs": [
        {
          "output_type": "execute_result",
          "data": {
            "text/plain": [
              "   sepal length (cm)  sepal width (cm)  petal length (cm)  petal width (cm)\n",
              "0                5.1               3.5                1.4               0.2\n",
              "1                4.9               3.0                1.4               0.2\n",
              "2                4.7               3.2                1.3               0.2\n",
              "3                4.6               3.1                1.5               0.2\n",
              "4                5.0               3.6                1.4               0.2"
            ],
            "text/html": [
              "\n",
              "  <div id=\"df-d9397271-5899-4e06-acaf-720d5b7fa3d7\">\n",
              "    <div class=\"colab-df-container\">\n",
              "      <div>\n",
              "<style scoped>\n",
              "    .dataframe tbody tr th:only-of-type {\n",
              "        vertical-align: middle;\n",
              "    }\n",
              "\n",
              "    .dataframe tbody tr th {\n",
              "        vertical-align: top;\n",
              "    }\n",
              "\n",
              "    .dataframe thead th {\n",
              "        text-align: right;\n",
              "    }\n",
              "</style>\n",
              "<table border=\"1\" class=\"dataframe\">\n",
              "  <thead>\n",
              "    <tr style=\"text-align: right;\">\n",
              "      <th></th>\n",
              "      <th>sepal length (cm)</th>\n",
              "      <th>sepal width (cm)</th>\n",
              "      <th>petal length (cm)</th>\n",
              "      <th>petal width (cm)</th>\n",
              "    </tr>\n",
              "  </thead>\n",
              "  <tbody>\n",
              "    <tr>\n",
              "      <th>0</th>\n",
              "      <td>5.1</td>\n",
              "      <td>3.5</td>\n",
              "      <td>1.4</td>\n",
              "      <td>0.2</td>\n",
              "    </tr>\n",
              "    <tr>\n",
              "      <th>1</th>\n",
              "      <td>4.9</td>\n",
              "      <td>3.0</td>\n",
              "      <td>1.4</td>\n",
              "      <td>0.2</td>\n",
              "    </tr>\n",
              "    <tr>\n",
              "      <th>2</th>\n",
              "      <td>4.7</td>\n",
              "      <td>3.2</td>\n",
              "      <td>1.3</td>\n",
              "      <td>0.2</td>\n",
              "    </tr>\n",
              "    <tr>\n",
              "      <th>3</th>\n",
              "      <td>4.6</td>\n",
              "      <td>3.1</td>\n",
              "      <td>1.5</td>\n",
              "      <td>0.2</td>\n",
              "    </tr>\n",
              "    <tr>\n",
              "      <th>4</th>\n",
              "      <td>5.0</td>\n",
              "      <td>3.6</td>\n",
              "      <td>1.4</td>\n",
              "      <td>0.2</td>\n",
              "    </tr>\n",
              "  </tbody>\n",
              "</table>\n",
              "</div>\n",
              "      <button class=\"colab-df-convert\" onclick=\"convertToInteractive('df-d9397271-5899-4e06-acaf-720d5b7fa3d7')\"\n",
              "              title=\"Convert this dataframe to an interactive table.\"\n",
              "              style=\"display:none;\">\n",
              "        \n",
              "  <svg xmlns=\"http://www.w3.org/2000/svg\" height=\"24px\"viewBox=\"0 0 24 24\"\n",
              "       width=\"24px\">\n",
              "    <path d=\"M0 0h24v24H0V0z\" fill=\"none\"/>\n",
              "    <path d=\"M18.56 5.44l.94 2.06.94-2.06 2.06-.94-2.06-.94-.94-2.06-.94 2.06-2.06.94zm-11 1L8.5 8.5l.94-2.06 2.06-.94-2.06-.94L8.5 2.5l-.94 2.06-2.06.94zm10 10l.94 2.06.94-2.06 2.06-.94-2.06-.94-.94-2.06-.94 2.06-2.06.94z\"/><path d=\"M17.41 7.96l-1.37-1.37c-.4-.4-.92-.59-1.43-.59-.52 0-1.04.2-1.43.59L10.3 9.45l-7.72 7.72c-.78.78-.78 2.05 0 2.83L4 21.41c.39.39.9.59 1.41.59.51 0 1.02-.2 1.41-.59l7.78-7.78 2.81-2.81c.8-.78.8-2.07 0-2.86zM5.41 20L4 18.59l7.72-7.72 1.47 1.35L5.41 20z\"/>\n",
              "  </svg>\n",
              "      </button>\n",
              "      \n",
              "  <style>\n",
              "    .colab-df-container {\n",
              "      display:flex;\n",
              "      flex-wrap:wrap;\n",
              "      gap: 12px;\n",
              "    }\n",
              "\n",
              "    .colab-df-convert {\n",
              "      background-color: #E8F0FE;\n",
              "      border: none;\n",
              "      border-radius: 50%;\n",
              "      cursor: pointer;\n",
              "      display: none;\n",
              "      fill: #1967D2;\n",
              "      height: 32px;\n",
              "      padding: 0 0 0 0;\n",
              "      width: 32px;\n",
              "    }\n",
              "\n",
              "    .colab-df-convert:hover {\n",
              "      background-color: #E2EBFA;\n",
              "      box-shadow: 0px 1px 2px rgba(60, 64, 67, 0.3), 0px 1px 3px 1px rgba(60, 64, 67, 0.15);\n",
              "      fill: #174EA6;\n",
              "    }\n",
              "\n",
              "    [theme=dark] .colab-df-convert {\n",
              "      background-color: #3B4455;\n",
              "      fill: #D2E3FC;\n",
              "    }\n",
              "\n",
              "    [theme=dark] .colab-df-convert:hover {\n",
              "      background-color: #434B5C;\n",
              "      box-shadow: 0px 1px 3px 1px rgba(0, 0, 0, 0.15);\n",
              "      filter: drop-shadow(0px 1px 2px rgba(0, 0, 0, 0.3));\n",
              "      fill: #FFFFFF;\n",
              "    }\n",
              "  </style>\n",
              "\n",
              "      <script>\n",
              "        const buttonEl =\n",
              "          document.querySelector('#df-d9397271-5899-4e06-acaf-720d5b7fa3d7 button.colab-df-convert');\n",
              "        buttonEl.style.display =\n",
              "          google.colab.kernel.accessAllowed ? 'block' : 'none';\n",
              "\n",
              "        async function convertToInteractive(key) {\n",
              "          const element = document.querySelector('#df-d9397271-5899-4e06-acaf-720d5b7fa3d7');\n",
              "          const dataTable =\n",
              "            await google.colab.kernel.invokeFunction('convertToInteractive',\n",
              "                                                     [key], {});\n",
              "          if (!dataTable) return;\n",
              "\n",
              "          const docLinkHtml = 'Like what you see? Visit the ' +\n",
              "            '<a target=\"_blank\" href=https://colab.research.google.com/notebooks/data_table.ipynb>data table notebook</a>'\n",
              "            + ' to learn more about interactive tables.';\n",
              "          element.innerHTML = '';\n",
              "          dataTable['output_type'] = 'display_data';\n",
              "          await google.colab.output.renderOutput(dataTable, element);\n",
              "          const docLink = document.createElement('div');\n",
              "          docLink.innerHTML = docLinkHtml;\n",
              "          element.appendChild(docLink);\n",
              "        }\n",
              "      </script>\n",
              "    </div>\n",
              "  </div>\n",
              "  "
            ]
          },
          "metadata": {},
          "execution_count": 5
        }
      ]
    },
    {
      "cell_type": "markdown",
      "source": [
        "paso a paso"
      ],
      "metadata": {
        "id": "yTRCORb5fKld"
      }
    },
    {
      "cell_type": "code",
      "source": [
        "cov_matrix = np.cov(data.T)\n",
        "print(cov_matrix)"
      ],
      "metadata": {
        "colab": {
          "base_uri": "https://localhost:8080/"
        },
        "id": "5rzZZDN3fE_r",
        "outputId": "35b003ff-9a71-4658-be27-d9710747d857"
      },
      "execution_count": null,
      "outputs": [
        {
          "output_type": "stream",
          "name": "stdout",
          "text": [
            "[[ 0.68569351 -0.042434    1.27431544  0.51627069]\n",
            " [-0.042434    0.18997942 -0.32965638 -0.12163937]\n",
            " [ 1.27431544 -0.32965638  3.11627785  1.2956094 ]\n",
            " [ 0.51627069 -0.12163937  1.2956094   0.58100626]]\n"
          ]
        }
      ]
    },
    {
      "cell_type": "code",
      "source": [
        "eigval, eigvec = np.linalg.eig(cov_matrix)\n",
        "\n",
        "print(\"autovalores\")\n",
        "print(eigval)\n",
        "print(\"autovectores\")\n",
        "print(eigvec)"
      ],
      "metadata": {
        "colab": {
          "base_uri": "https://localhost:8080/"
        },
        "id": "0_tLBzn1fvzp",
        "outputId": "07f3ae63-e757-4596-d962-37fa5f69ef78"
      },
      "execution_count": null,
      "outputs": [
        {
          "output_type": "stream",
          "name": "stdout",
          "text": [
            "autovalores\n",
            "[4.22824171 0.24267075 0.0782095  0.02383509]\n",
            "autovectores\n",
            "[[ 0.36138659 -0.65658877 -0.58202985  0.31548719]\n",
            " [-0.08452251 -0.73016143  0.59791083 -0.3197231 ]\n",
            " [ 0.85667061  0.17337266  0.07623608 -0.47983899]\n",
            " [ 0.3582892   0.07548102  0.54583143  0.75365743]]\n"
          ]
        }
      ]
    },
    {
      "cell_type": "code",
      "source": [
        "idx_ordenados = np.argsort(eigval)[::-1]\n",
        "\n",
        "eigval = eigval[idx_ordenados]\n",
        "eigvec = eigvec[:, idx_ordenados]\n",
        "\n",
        "print(\"autovalores\")\n",
        "print(eigval)\n",
        "print(\"autovectores\")\n",
        "print(eigvec)"
      ],
      "metadata": {
        "colab": {
          "base_uri": "https://localhost:8080/"
        },
        "id": "KqQEGOd1gPYx",
        "outputId": "d9876f5a-e8fe-4df1-f932-1700f7e60892"
      },
      "execution_count": null,
      "outputs": [
        {
          "output_type": "stream",
          "name": "stdout",
          "text": [
            "autovalores\n",
            "[4.22824171 0.24267075 0.0782095  0.02383509]\n",
            "autovectores\n",
            "[[ 0.36138659 -0.65658877 -0.58202985  0.31548719]\n",
            " [-0.08452251 -0.73016143  0.59791083 -0.3197231 ]\n",
            " [ 0.85667061  0.17337266  0.07623608 -0.47983899]\n",
            " [ 0.3582892   0.07548102  0.54583143  0.75365743]]\n"
          ]
        }
      ]
    },
    {
      "cell_type": "code",
      "source": [
        "var_exp = eigval / np.sum(eigval)\n",
        "var_exp"
      ],
      "metadata": {
        "colab": {
          "base_uri": "https://localhost:8080/"
        },
        "id": "9u9BSdZ-g8W_",
        "outputId": "52b89304-1861-4b49-c5d6-3bca7798c16f"
      },
      "execution_count": null,
      "outputs": [
        {
          "output_type": "execute_result",
          "data": {
            "text/plain": [
              "array([0.92461872, 0.05306648, 0.01710261, 0.00521218])"
            ]
          },
          "metadata": {},
          "execution_count": 10
        }
      ]
    },
    {
      "cell_type": "code",
      "source": [
        "componentes = eigvec.T.dot(data.T)\n",
        "print(componentes)"
      ],
      "metadata": {
        "id": "UcPv7I2HhcJN"
      },
      "execution_count": null,
      "outputs": []
    },
    {
      "cell_type": "markdown",
      "source": [
        "objeto python"
      ],
      "metadata": {
        "id": "2mZAw9O3h23x"
      }
    },
    {
      "cell_type": "code",
      "source": [
        "pca = PCA()\n",
        "pca.fit(data)\n",
        "\n",
        "print(pca.components_)"
      ],
      "metadata": {
        "colab": {
          "base_uri": "https://localhost:8080/"
        },
        "id": "wLox3Lnjh5HQ",
        "outputId": "6261a81e-25dc-43d3-f31e-c3a338a47c25"
      },
      "execution_count": null,
      "outputs": [
        {
          "output_type": "stream",
          "name": "stdout",
          "text": [
            "[[ 0.36138659 -0.08452251  0.85667061  0.3582892 ]\n",
            " [ 0.65658877  0.73016143 -0.17337266 -0.07548102]\n",
            " [-0.58202985  0.59791083  0.07623608  0.54583143]\n",
            " [-0.31548719  0.3197231   0.47983899 -0.75365743]]\n"
          ]
        }
      ]
    },
    {
      "cell_type": "code",
      "source": [
        "idx_pca = [f\"PCA{i}\" for i in range(1, data.shape[1]+1)]\n",
        "idx_pca"
      ],
      "metadata": {
        "colab": {
          "base_uri": "https://localhost:8080/"
        },
        "id": "-M8CSht3jKK0",
        "outputId": "7de7edb5-dc11-4931-94e7-62013cecdcb1"
      },
      "execution_count": null,
      "outputs": [
        {
          "output_type": "execute_result",
          "data": {
            "text/plain": [
              "['PCA1', 'PCA2', 'PCA3', 'PCA4']"
            ]
          },
          "metadata": {},
          "execution_count": 15
        }
      ]
    },
    {
      "cell_type": "code",
      "source": [
        "eigvec = pd.DataFrame(\n",
        "    data = pca.components_,\n",
        "    columns = data.columns,\n",
        "    index = idx_pca\n",
        ")\n",
        "eigvec"
      ],
      "metadata": {
        "colab": {
          "base_uri": "https://localhost:8080/",
          "height": 175
        },
        "id": "Cr8t4RGwiWhI",
        "outputId": "b0134103-0f34-4608-de92-9ed411853d95"
      },
      "execution_count": null,
      "outputs": [
        {
          "output_type": "execute_result",
          "data": {
            "text/plain": [
              "      sepal length (cm)  sepal width (cm)  petal length (cm)  petal width (cm)\n",
              "PCA1           0.361387         -0.084523           0.856671          0.358289\n",
              "PCA2           0.656589          0.730161          -0.173373         -0.075481\n",
              "PCA3          -0.582030          0.597911           0.076236          0.545831\n",
              "PCA4          -0.315487          0.319723           0.479839         -0.753657"
            ],
            "text/html": [
              "\n",
              "  <div id=\"df-95561331-a691-4dc7-967d-7681b44c8523\">\n",
              "    <div class=\"colab-df-container\">\n",
              "      <div>\n",
              "<style scoped>\n",
              "    .dataframe tbody tr th:only-of-type {\n",
              "        vertical-align: middle;\n",
              "    }\n",
              "\n",
              "    .dataframe tbody tr th {\n",
              "        vertical-align: top;\n",
              "    }\n",
              "\n",
              "    .dataframe thead th {\n",
              "        text-align: right;\n",
              "    }\n",
              "</style>\n",
              "<table border=\"1\" class=\"dataframe\">\n",
              "  <thead>\n",
              "    <tr style=\"text-align: right;\">\n",
              "      <th></th>\n",
              "      <th>sepal length (cm)</th>\n",
              "      <th>sepal width (cm)</th>\n",
              "      <th>petal length (cm)</th>\n",
              "      <th>petal width (cm)</th>\n",
              "    </tr>\n",
              "  </thead>\n",
              "  <tbody>\n",
              "    <tr>\n",
              "      <th>PCA1</th>\n",
              "      <td>0.361387</td>\n",
              "      <td>-0.084523</td>\n",
              "      <td>0.856671</td>\n",
              "      <td>0.358289</td>\n",
              "    </tr>\n",
              "    <tr>\n",
              "      <th>PCA2</th>\n",
              "      <td>0.656589</td>\n",
              "      <td>0.730161</td>\n",
              "      <td>-0.173373</td>\n",
              "      <td>-0.075481</td>\n",
              "    </tr>\n",
              "    <tr>\n",
              "      <th>PCA3</th>\n",
              "      <td>-0.582030</td>\n",
              "      <td>0.597911</td>\n",
              "      <td>0.076236</td>\n",
              "      <td>0.545831</td>\n",
              "    </tr>\n",
              "    <tr>\n",
              "      <th>PCA4</th>\n",
              "      <td>-0.315487</td>\n",
              "      <td>0.319723</td>\n",
              "      <td>0.479839</td>\n",
              "      <td>-0.753657</td>\n",
              "    </tr>\n",
              "  </tbody>\n",
              "</table>\n",
              "</div>\n",
              "      <button class=\"colab-df-convert\" onclick=\"convertToInteractive('df-95561331-a691-4dc7-967d-7681b44c8523')\"\n",
              "              title=\"Convert this dataframe to an interactive table.\"\n",
              "              style=\"display:none;\">\n",
              "        \n",
              "  <svg xmlns=\"http://www.w3.org/2000/svg\" height=\"24px\"viewBox=\"0 0 24 24\"\n",
              "       width=\"24px\">\n",
              "    <path d=\"M0 0h24v24H0V0z\" fill=\"none\"/>\n",
              "    <path d=\"M18.56 5.44l.94 2.06.94-2.06 2.06-.94-2.06-.94-.94-2.06-.94 2.06-2.06.94zm-11 1L8.5 8.5l.94-2.06 2.06-.94-2.06-.94L8.5 2.5l-.94 2.06-2.06.94zm10 10l.94 2.06.94-2.06 2.06-.94-2.06-.94-.94-2.06-.94 2.06-2.06.94z\"/><path d=\"M17.41 7.96l-1.37-1.37c-.4-.4-.92-.59-1.43-.59-.52 0-1.04.2-1.43.59L10.3 9.45l-7.72 7.72c-.78.78-.78 2.05 0 2.83L4 21.41c.39.39.9.59 1.41.59.51 0 1.02-.2 1.41-.59l7.78-7.78 2.81-2.81c.8-.78.8-2.07 0-2.86zM5.41 20L4 18.59l7.72-7.72 1.47 1.35L5.41 20z\"/>\n",
              "  </svg>\n",
              "      </button>\n",
              "      \n",
              "  <style>\n",
              "    .colab-df-container {\n",
              "      display:flex;\n",
              "      flex-wrap:wrap;\n",
              "      gap: 12px;\n",
              "    }\n",
              "\n",
              "    .colab-df-convert {\n",
              "      background-color: #E8F0FE;\n",
              "      border: none;\n",
              "      border-radius: 50%;\n",
              "      cursor: pointer;\n",
              "      display: none;\n",
              "      fill: #1967D2;\n",
              "      height: 32px;\n",
              "      padding: 0 0 0 0;\n",
              "      width: 32px;\n",
              "    }\n",
              "\n",
              "    .colab-df-convert:hover {\n",
              "      background-color: #E2EBFA;\n",
              "      box-shadow: 0px 1px 2px rgba(60, 64, 67, 0.3), 0px 1px 3px 1px rgba(60, 64, 67, 0.15);\n",
              "      fill: #174EA6;\n",
              "    }\n",
              "\n",
              "    [theme=dark] .colab-df-convert {\n",
              "      background-color: #3B4455;\n",
              "      fill: #D2E3FC;\n",
              "    }\n",
              "\n",
              "    [theme=dark] .colab-df-convert:hover {\n",
              "      background-color: #434B5C;\n",
              "      box-shadow: 0px 1px 3px 1px rgba(0, 0, 0, 0.15);\n",
              "      filter: drop-shadow(0px 1px 2px rgba(0, 0, 0, 0.3));\n",
              "      fill: #FFFFFF;\n",
              "    }\n",
              "  </style>\n",
              "\n",
              "      <script>\n",
              "        const buttonEl =\n",
              "          document.querySelector('#df-95561331-a691-4dc7-967d-7681b44c8523 button.colab-df-convert');\n",
              "        buttonEl.style.display =\n",
              "          google.colab.kernel.accessAllowed ? 'block' : 'none';\n",
              "\n",
              "        async function convertToInteractive(key) {\n",
              "          const element = document.querySelector('#df-95561331-a691-4dc7-967d-7681b44c8523');\n",
              "          const dataTable =\n",
              "            await google.colab.kernel.invokeFunction('convertToInteractive',\n",
              "                                                     [key], {});\n",
              "          if (!dataTable) return;\n",
              "\n",
              "          const docLinkHtml = 'Like what you see? Visit the ' +\n",
              "            '<a target=\"_blank\" href=https://colab.research.google.com/notebooks/data_table.ipynb>data table notebook</a>'\n",
              "            + ' to learn more about interactive tables.';\n",
              "          element.innerHTML = '';\n",
              "          dataTable['output_type'] = 'display_data';\n",
              "          await google.colab.output.renderOutput(dataTable, element);\n",
              "          const docLink = document.createElement('div');\n",
              "          docLink.innerHTML = docLinkHtml;\n",
              "          element.appendChild(docLink);\n",
              "        }\n",
              "      </script>\n",
              "    </div>\n",
              "  </div>\n",
              "  "
            ]
          },
          "metadata": {},
          "execution_count": 16
        }
      ]
    },
    {
      "cell_type": "markdown",
      "source": [
        "PCA1 = 0.36 sepal length (cm) - 0.08 sepal widht (cm) + 0.86 petal lenght (cm) + 0.36 petal width (cm)"
      ],
      "metadata": {
        "id": "4141gQvBjaYp"
      }
    },
    {
      "cell_type": "code",
      "source": [
        "varexp = pca.explained_variance_ratio_\n",
        "varexp"
      ],
      "metadata": {
        "colab": {
          "base_uri": "https://localhost:8080/"
        },
        "id": "14JMyUjzj7sk",
        "outputId": "e04ea1fd-2b17-468c-cda9-6cb83d4e8a60"
      },
      "execution_count": null,
      "outputs": [
        {
          "output_type": "execute_result",
          "data": {
            "text/plain": [
              "array([0.92461872, 0.05306648, 0.01710261, 0.00521218])"
            ]
          },
          "metadata": {},
          "execution_count": 17
        }
      ]
    },
    {
      "cell_type": "code",
      "source": [
        "fig, ax = plt.subplots(nrows=1, ncols=1, figsize=(6, 4))\n",
        "\n",
        "#agregar las barras\n",
        "ax.bar(\n",
        "    x = np.arange(pca.n_components_) + 1,\n",
        "    height = varexp\n",
        ")\n",
        "\n",
        "#agregar etiquetas de barras\n",
        "for x, y in zip(np.arange(len(data.columns)) + 1, varexp):\n",
        "    label = round(y, 2)\n",
        "    ax.annotate(\n",
        "        label,\n",
        "        (x,y),\n",
        "        textcoords=\"offset points\",\n",
        "        xytext=(0,10),\n",
        "        ha='center'\n",
        "    )\n",
        "\n",
        "ax.set_xticks(np.arange(pca.n_components_) + 1)\n",
        "ax.set_ylim(0,1.1)\n",
        "ax.set_title(\"Porcentaje de var exp por c/componente\")\n",
        "ax.set_xlabel(\"Componente principal\")\n",
        "ax.set_ylabel(\"% var exp\")\n"
      ],
      "metadata": {
        "colab": {
          "base_uri": "https://localhost:8080/",
          "height": 428
        },
        "id": "ON8Pin51kVZz",
        "outputId": "8c143d3b-7802-4992-f7df-b1529c51ed85"
      },
      "execution_count": null,
      "outputs": [
        {
          "output_type": "execute_result",
          "data": {
            "text/plain": [
              "Text(0, 0.5, '% var exp')"
            ]
          },
          "metadata": {},
          "execution_count": 28
        },
        {
          "output_type": "display_data",
          "data": {
            "text/plain": [
              "<Figure size 600x400 with 1 Axes>"
            ],
            "image/png": "[encoded data removed]"
          },
          "metadata": {}
        }
      ]
    },
    {
      "cell_type": "code",
      "source": [
        "varexpac = pca.explained_variance_ratio_.cumsum()\n",
        "varexpac"
      ],
      "metadata": {
        "colab": {
          "base_uri": "https://localhost:8080/"
        },
        "id": "xXtuD_07pVWc",
        "outputId": "7c669237-3443-498d-e750-2007fef55f4d"
      },
      "execution_count": null,
      "outputs": [
        {
          "output_type": "execute_result",
          "data": {
            "text/plain": [
              "array([0.92461872, 0.97768521, 0.99478782, 1.        ])"
            ]
          },
          "metadata": {},
          "execution_count": 32
        }
      ]
    },
    {
      "cell_type": "code",
      "source": [
        "fig, ax = plt.subplots(nrows=1, ncols=1, figsize=(6, 4))\n",
        "\n",
        "ax.plot(\n",
        "    np.arange(len(data.columns)) + 1,\n",
        "    varexpac,\n",
        "    marker = 'o'\n",
        ")\n",
        "\n",
        "for x, y in zip(np.arange(len(data.columns)) + 1, varexpac):\n",
        "    label = round(y, 2)\n",
        "    ax.annotate(\n",
        "        label,\n",
        "        (x,y),\n",
        "        textcoords=\"offset points\",\n",
        "        xytext=(0,10),\n",
        "        ha='center'\n",
        "    )\n",
        "\n",
        "ax.set_ylim(0, 1.1)\n",
        "ax.set_xticks(np.arange(pca.n_components_) + 1)\n",
        "ax.set_title(\"% var explicada acumulada\")\n",
        "ax.set_xlabel(\"Componentes Principales\")\n",
        "ax.set_ylabel(\"% var exp acu\")\n",
        "\n",
        "plt.show()"
      ],
      "metadata": {
        "colab": {
          "base_uri": "https://localhost:8080/",
          "height": 410
        },
        "id": "hCoXHZtUp0u6",
        "outputId": "0f337c75-353b-41fd-eff2-b36b2f2cfaba"
      },
      "execution_count": null,
      "outputs": [
        {
          "output_type": "display_data",
          "data": {
            "text/plain": [
              "<Figure size 600x400 with 1 Axes>"
            ],
            "image/png": "[encoded data removed]"
          },
          "metadata": {}
        }
      ]
    },
    {
      "cell_type": "code",
      "source": [
        "pca = PCA(n_components = 2)\n",
        "pca.fit(data)\n",
        "\n",
        "data_red_transf = pca.transform(data)\n",
        "\n",
        "data_red_transf"
      ],
      "metadata": {
        "colab": {
          "base_uri": "https://localhost:8080/"
        },
        "id": "9-kN0s4lr4Qs",
        "outputId": "6547e46a-9812-4963-befe-40e918da2c63"
      },
      "execution_count": null,
      "outputs": [
        {
          "output_type": "execute_result",
          "data": {
            "text/plain": [
              "array([[-2.68412563,  0.31939725],\n",
              "       [-2.71414169, -0.17700123],\n",
              "       [-2.88899057, -0.14494943],\n",
              "       [-2.74534286, -0.31829898],\n",
              "       [-2.72871654,  0.32675451],\n",
              "       [-2.28085963,  0.74133045],\n",
              "       [-2.82053775, -0.08946138],\n",
              "       [-2.62614497,  0.16338496],\n",
              "       [-2.88638273, -0.57831175],\n",
              "       [-2.6727558 , -0.11377425],\n",
              "       [-2.50694709,  0.6450689 ],\n",
              "       [-2.61275523,  0.01472994],\n",
              "       [-2.78610927, -0.235112  ],\n",
              "       [-3.22380374, -0.51139459],\n",
              "       [-2.64475039,  1.17876464],\n",
              "       [-2.38603903,  1.33806233],\n",
              "       [-2.62352788,  0.81067951],\n",
              "       [-2.64829671,  0.31184914],\n",
              "       [-2.19982032,  0.87283904],\n",
              "       [-2.5879864 ,  0.51356031],\n",
              "       [-2.31025622,  0.39134594],\n",
              "       [-2.54370523,  0.43299606],\n",
              "       [-3.21593942,  0.13346807],\n",
              "       [-2.30273318,  0.09870885],\n",
              "       [-2.35575405, -0.03728186],\n",
              "       [-2.50666891, -0.14601688],\n",
              "       [-2.46882007,  0.13095149],\n",
              "       [-2.56231991,  0.36771886],\n",
              "       [-2.63953472,  0.31203998],\n",
              "       [-2.63198939, -0.19696122],\n",
              "       [-2.58739848, -0.20431849],\n",
              "       [-2.4099325 ,  0.41092426],\n",
              "       [-2.64886233,  0.81336382],\n",
              "       [-2.59873675,  1.09314576],\n",
              "       [-2.63692688, -0.12132235],\n",
              "       [-2.86624165,  0.06936447],\n",
              "       [-2.62523805,  0.59937002],\n",
              "       [-2.80068412,  0.26864374],\n",
              "       [-2.98050204, -0.48795834],\n",
              "       [-2.59000631,  0.22904384],\n",
              "       [-2.77010243,  0.26352753],\n",
              "       [-2.84936871, -0.94096057],\n",
              "       [-2.99740655, -0.34192606],\n",
              "       [-2.40561449,  0.18887143],\n",
              "       [-2.20948924,  0.43666314],\n",
              "       [-2.71445143, -0.2502082 ],\n",
              "       [-2.53814826,  0.50377114],\n",
              "       [-2.83946217, -0.22794557],\n",
              "       [-2.54308575,  0.57941002],\n",
              "       [-2.70335978,  0.10770608],\n",
              "       [ 1.28482569,  0.68516047],\n",
              "       [ 0.93248853,  0.31833364],\n",
              "       [ 1.46430232,  0.50426282],\n",
              "       [ 0.18331772, -0.82795901],\n",
              "       [ 1.08810326,  0.07459068],\n",
              "       [ 0.64166908, -0.41824687],\n",
              "       [ 1.09506066,  0.28346827],\n",
              "       [-0.74912267, -1.00489096],\n",
              "       [ 1.04413183,  0.2283619 ],\n",
              "       [-0.0087454 , -0.72308191],\n",
              "       [-0.50784088, -1.26597119],\n",
              "       [ 0.51169856, -0.10398124],\n",
              "       [ 0.26497651, -0.55003646],\n",
              "       [ 0.98493451, -0.12481785],\n",
              "       [-0.17392537, -0.25485421],\n",
              "       [ 0.92786078,  0.46717949],\n",
              "       [ 0.66028376, -0.35296967],\n",
              "       [ 0.23610499, -0.33361077],\n",
              "       [ 0.94473373, -0.54314555],\n",
              "       [ 0.04522698, -0.58383438],\n",
              "       [ 1.11628318, -0.08461685],\n",
              "       [ 0.35788842, -0.06892503],\n",
              "       [ 1.29818388, -0.32778731],\n",
              "       [ 0.92172892, -0.18273779],\n",
              "       [ 0.71485333,  0.14905594],\n",
              "       [ 0.90017437,  0.32850447],\n",
              "       [ 1.33202444,  0.24444088],\n",
              "       [ 1.55780216,  0.26749545],\n",
              "       [ 0.81329065, -0.1633503 ],\n",
              "       [-0.30558378, -0.36826219],\n",
              "       [-0.06812649, -0.70517213],\n",
              "       [-0.18962247, -0.68028676],\n",
              "       [ 0.13642871, -0.31403244],\n",
              "       [ 1.38002644, -0.42095429],\n",
              "       [ 0.58800644, -0.48428742],\n",
              "       [ 0.80685831,  0.19418231],\n",
              "       [ 1.22069088,  0.40761959],\n",
              "       [ 0.81509524, -0.37203706],\n",
              "       [ 0.24595768, -0.2685244 ],\n",
              "       [ 0.16641322, -0.68192672],\n",
              "       [ 0.46480029, -0.67071154],\n",
              "       [ 0.8908152 , -0.03446444],\n",
              "       [ 0.23054802, -0.40438585],\n",
              "       [-0.70453176, -1.01224823],\n",
              "       [ 0.35698149, -0.50491009],\n",
              "       [ 0.33193448, -0.21265468],\n",
              "       [ 0.37621565, -0.29321893],\n",
              "       [ 0.64257601,  0.01773819],\n",
              "       [-0.90646986, -0.75609337],\n",
              "       [ 0.29900084, -0.34889781],\n",
              "       [ 2.53119273, -0.00984911],\n",
              "       [ 1.41523588, -0.57491635],\n",
              "       [ 2.61667602,  0.34390315],\n",
              "       [ 1.97153105, -0.1797279 ],\n",
              "       [ 2.35000592, -0.04026095],\n",
              "       [ 3.39703874,  0.55083667],\n",
              "       [ 0.52123224, -1.19275873],\n",
              "       [ 2.93258707,  0.3555    ],\n",
              "       [ 2.32122882, -0.2438315 ],\n",
              "       [ 2.91675097,  0.78279195],\n",
              "       [ 1.66177415,  0.24222841],\n",
              "       [ 1.80340195, -0.21563762],\n",
              "       [ 2.1655918 ,  0.21627559],\n",
              "       [ 1.34616358, -0.77681835],\n",
              "       [ 1.58592822, -0.53964071],\n",
              "       [ 1.90445637,  0.11925069],\n",
              "       [ 1.94968906,  0.04194326],\n",
              "       [ 3.48705536,  1.17573933],\n",
              "       [ 3.79564542,  0.25732297],\n",
              "       [ 1.30079171, -0.76114964],\n",
              "       [ 2.42781791,  0.37819601],\n",
              "       [ 1.19900111, -0.60609153],\n",
              "       [ 3.49992004,  0.4606741 ],\n",
              "       [ 1.38876613, -0.20439933],\n",
              "       [ 2.2754305 ,  0.33499061],\n",
              "       [ 2.61409047,  0.56090136],\n",
              "       [ 1.25850816, -0.17970479],\n",
              "       [ 1.29113206, -0.11666865],\n",
              "       [ 2.12360872, -0.20972948],\n",
              "       [ 2.38800302,  0.4646398 ],\n",
              "       [ 2.84167278,  0.37526917],\n",
              "       [ 3.23067366,  1.37416509],\n",
              "       [ 2.15943764, -0.21727758],\n",
              "       [ 1.44416124, -0.14341341],\n",
              "       [ 1.78129481, -0.49990168],\n",
              "       [ 3.07649993,  0.68808568],\n",
              "       [ 2.14424331,  0.1400642 ],\n",
              "       [ 1.90509815,  0.04930053],\n",
              "       [ 1.16932634, -0.16499026],\n",
              "       [ 2.10761114,  0.37228787],\n",
              "       [ 2.31415471,  0.18365128],\n",
              "       [ 1.9222678 ,  0.40920347],\n",
              "       [ 1.41523588, -0.57491635],\n",
              "       [ 2.56301338,  0.2778626 ],\n",
              "       [ 2.41874618,  0.3047982 ],\n",
              "       [ 1.94410979,  0.1875323 ],\n",
              "       [ 1.52716661, -0.37531698],\n",
              "       [ 1.76434572,  0.07885885],\n",
              "       [ 1.90094161,  0.11662796],\n",
              "       [ 1.39018886, -0.28266094]])"
            ]
          },
          "metadata": {},
          "execution_count": 38
        }
      ]
    },
    {
      "cell_type": "code",
      "source": [
        "varexp = pca.explained_variance_ratio_\n",
        "varexp"
      ],
      "metadata": {
        "colab": {
          "base_uri": "https://localhost:8080/"
        },
        "id": "M82tjpDqsrDT",
        "outputId": "b16741ea-1574-4b4b-e2bd-42bf53f042c5"
      },
      "execution_count": null,
      "outputs": [
        {
          "output_type": "execute_result",
          "data": {
            "text/plain": [
              "array([0.92461872, 0.05306648])"
            ]
          },
          "metadata": {},
          "execution_count": 40
        }
      ]
    },
    {
      "cell_type": "code",
      "source": [
        "fig, ax = plt.subplots()\n",
        "\n",
        "#graficar las muestras\n",
        "#ax.scatter(\n",
        "#    data_red_transf[:,0],\n",
        "#    data_red_transf[:,1],\n",
        "#    color='b'\n",
        "#)\n",
        "\n",
        "for i, tn in enumerate(iris.target_names):\n",
        "  ax.scatter(\n",
        "      data_red_transf[iris.target == i,0],\n",
        "      data_red_transf[iris.target == i,1],\n",
        "      label = tn\n",
        "  )\n",
        "\n",
        "ax.legend()\n",
        "\n",
        "feature_vectors = pca.components_.T\n",
        "for i, fv in enumerate(feature_vectors):\n",
        "  ax.arrow(0, 0, fv[0], fv[1], color='r', alpha=0.5, head_width=0.1)\n",
        "  ax.text(fv[0], fv[1], data.columns[i], color='r', ha='center', va='center')\n",
        "\n",
        "\n",
        "ax.set_xlabel('PC1')\n",
        "ax.set_ylabel('PC2')\n",
        "\n",
        "ax.set_title('Biplot PCA - Iris')\n",
        "\n",
        "ax.text(-2.5, -2, f'Varianza explicada PC1:  {varexp[0]:.2f}', color='#000')\n",
        "ax.text(-2.5, -2.5, f'Varianza explicada PC2:  {varexp[1]:.2f}', color='#000')\n",
        "\n",
        "plt.grid(True)\n",
        "plt.show()"
      ],
      "metadata": {
        "colab": {
          "base_uri": "https://localhost:8080/",
          "height": 572
        },
        "id": "_v-0nDThsdOd",
        "outputId": "3c238d9b-f39c-4c10-db62-06e2513f90a9"
      },
      "execution_count": null,
      "outputs": [
        {
          "output_type": "display_data",
          "data": {
            "text/plain": [
              "<Figure size 640x480 with 1 Axes>"
            ],
            "image/png": "[encoded data removed]"
          },
          "metadata": {}
        }
      ]
    },
    {
      "cell_type": "code",
      "source": [
        "iris.target_names"
      ],
      "metadata": {
        "colab": {
          "base_uri": "https://localhost:8080/"
        },
        "id": "1j9tIOsEybWF",
        "outputId": "61613172-585e-4883-c9e8-06be0d750cfd"
      },
      "execution_count": null,
      "outputs": [
        {
          "output_type": "execute_result",
          "data": {
            "text/plain": [
              "array(['setosa', 'versicolor', 'virginica'], dtype='<U10')"
            ]
          },
          "metadata": {},
          "execution_count": 47
        }
      ]
    }
  ]
}